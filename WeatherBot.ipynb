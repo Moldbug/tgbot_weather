{
  "nbformat": 4,
  "nbformat_minor": 0,
  "metadata": {
    "colab": {
      "provenance": [],
      "authorship_tag": "ABX9TyNeLUgMSYR+iFCfkzlEMrSe"
    },
    "kernelspec": {
      "name": "python3",
      "display_name": "Python 3"
    },
    "language_info": {
      "name": "python"
    }
  },
  "cells": [
    {
      "cell_type": "code",
      "execution_count": null,
      "metadata": {
        "colab": {
          "base_uri": "https://localhost:8080/"
        },
        "id": "JlewnRG2nnP9",
        "outputId": "4c9a29f7-afc0-4310-e634-148e79fdd5ca"
      },
      "outputs": [
        {
          "output_type": "stream",
          "name": "stdout",
          "text": [
            "Looking in indexes: https://pypi.org/simple, https://us-python.pkg.dev/colab-wheels/public/simple/\n",
            "Collecting nest-asyncio\n",
            "  Downloading nest_asyncio-1.5.6-py3-none-any.whl (5.2 kB)\n",
            "Installing collected packages: nest-asyncio\n",
            "Successfully installed nest-asyncio-1.5.6\n"
          ]
        }
      ],
      "source": [
        "# !pip install aiogram\n",
        "#!pip install nest-asyncio\n",
        "open_weather_token = ''\n",
        "tg_bot_token = ''"
      ]
    },
    {
      "cell_type": "code",
      "source": [
        "import requests\n",
        "import datetime\n",
        "from aiogram import Bot, types\n",
        "from aiogram.dispatcher import Dispatcher\n",
        "from aiogram.utils import executor\n",
        "import nest_asyncio\n",
        "nest_asyncio.apply()\n",
        "\n",
        "\n",
        "bot = Bot(token=tg_bot_token)\n",
        "dp = Dispatcher(bot)\n",
        "\n",
        "\n",
        "@dp.message_handler(commands=[\"start\"])\n",
        "async def start_command(message: types.Message):\n",
        "    await message.reply(\"Напишите мне название города и я пришлю сводку погоды!\")\n",
        "\n",
        "\n",
        "@dp.message_handler()\n",
        "async def get_weather(message: types.Message):\n",
        "    code_to_smile = {\n",
        "        \"Clear\": \"Ясно \\U00002600\",\n",
        "        \"Clouds\": \"Облачно \\U00002601\",\n",
        "        \"Rain\": \"Дождь \\U00002614\",\n",
        "        \"Drizzle\": \"Дождь \\U00002614\",\n",
        "        \"Thunderstorm\": \"Гроза \\U000026A1\",\n",
        "        \"Snow\": \"Снег \\U0001F328\",\n",
        "        \"Mist\": \"Туман \\U0001F32B\"\n",
        "    }\n",
        "\n",
        "    try:\n",
        "        r = requests.get(\n",
        "            f\"http://api.openweathermap.org/data/2.5/weather?q={message.text}&appid={open_weather_token}&units=metric\"\n",
        "        )\n",
        "        data = r.json()\n",
        "        # pprint(data)\n",
        "\n",
        "        city = data[\"name\"]\n",
        "        timezone = int(data[\"timezone\"]/3600)\n",
        "        if timezone > 0:\n",
        "            timezone = f\"+{timezone}\"\n",
        "        else:\n",
        "            pass\n",
        "        cur_weather = data[\"main\"][\"temp\"]\n",
        "        feels_like_weather = data[\"main\"][\"feels_like\"]\n",
        "\n",
        "        weather_description = data[\"weather\"][0][\"main\"]\n",
        "        if weather_description in code_to_smile:\n",
        "            wd = code_to_smile[weather_description]\n",
        "        else:\n",
        "            wd = \"Посмотри в окно\"\n",
        "\n",
        "        humidity = data[\"main\"][\"humidity\"]\n",
        "        pressure = data[\"main\"][\"pressure\"]\n",
        "        wind = data[\"wind\"][\"speed\"]\n",
        "        sunrise_timestamp = datetime.datetime.fromtimestamp(data[\"sys\"][\"sunrise\"])\n",
        "        sunset_timestamp = datetime.datetime.fromtimestamp(data[\"sys\"][\"sunset\"])\n",
        "        length_of_the_day = datetime.datetime.fromtimestamp(data[\"sys\"][\"sunset\"]) - datetime.datetime.fromtimestamp(\n",
        "            data[\"sys\"][\"sunrise\"])\n",
        "\n",
        "\n",
        "        await message.reply(f\"{datetime.datetime.now().strftime('%Y-%m-%d %H:%M')}\\n\"\n",
        "              f\"Погода в городе: {city}\\nЧасовой пояс: UTC {timezone}\\nТемпература: {cur_weather}C° {wd}\\n\"\n",
        "              f\"Ощущается как: {feels_like_weather}C°\\n\"\n",
        "              f\"Влажность: {humidity}%\\nДавление: {pressure} мм.рт.ст\\nВетер: {wind} м/с\\n\"\n",
        "              f\"Восход солнца: {sunrise_timestamp}\\nЗакат солнца: {sunset_timestamp}\\nПродолжительность дня: {length_of_the_day}\"\n",
        "              )\n",
        "\n",
        "    except:\n",
        "\n",
        "        await message.reply(\"Проверьте название города\")\n",
        "\n",
        "\n",
        "if __name__ == '__main__':\n",
        "    executor.start_polling(dp)"
      ],
      "metadata": {
        "colab": {
          "base_uri": "https://localhost:8080/"
        },
        "id": "TGRcCKsVoNQG",
        "outputId": "72870049-5a0d-49f9-db20-f1ebbdc0c979"
      },
      "execution_count": null,
      "outputs": [
        {
          "output_type": "stream",
          "name": "stderr",
          "text": [
            "WARNING:aiogram:Goodbye!\n"
          ]
        }
      ]
    },
    {
      "cell_type": "code",
      "source": [],
      "metadata": {
        "id": "mXRBNWgAnw3-"
      },
      "execution_count": null,
      "outputs": []
    }
  ]
}